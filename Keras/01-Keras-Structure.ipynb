{
 "cells": [
  {
   "cell_type": "markdown",
   "metadata": {},
   "source": [
    "# Estrutura de Construção do Keras"
   ]
  },
  {
   "cell_type": "code",
   "execution_count": 1,
   "metadata": {},
   "outputs": [],
   "source": [
    "from IPython.display import Image"
   ]
  },
  {
   "cell_type": "markdown",
   "metadata": {},
   "source": [
    "No Keras os modelos são construídos através de camadas, sendo para construi-los vamos de certa forma empilhando umas sobre as outras. A função de perda que escolhemos fornecerá as métricas para as quais usaremos para treinar nosso modelo usando um otimizador."
   ]
  },
  {
   "cell_type": "code",
   "execution_count": 2,
   "metadata": {},
   "outputs": [
    {
     "data": {
      "image/png": "[encoded data removed]",
      "text/plain": [
       "<IPython.core.display.Image object>"
      ]
     },
     "execution_count": 2,
     "metadata": {},
     "output_type": "execute_result"
    }
   ],
   "source": [
    "Image('Images/Neural Networks Structure in Keras.png')"
   ]
  },
  {
   "cell_type": "markdown",
   "metadata": {},
   "source": [
    "## Modelos (Models)"
   ]
  },
  {
   "cell_type": "markdown",
   "metadata": {},
   "source": [
    "Um modelo na estrutura do Keras são coleções de camadas. Um exemplo é o modelo `Sequential` onde camadas são empilhadas linearmente uma sobre as outras. Isso é muito bom, pois com o Keras não há necessidade de se pensar na matemática subjacente somemente nas dimensões consecutivas sejam compatíveis umas com as outras."
   ]
  },
  {
   "cell_type": "markdown",
   "metadata": {},
   "source": [
    "## Camadas (Layers) "
   ]
  },
  {
   "cell_type": "markdown",
   "metadata": {},
   "source": [
    "As camadas no Keras são a menor unidade de nossa rede neural. Cada camada que recebe uma entrada executa uma função matemática e a envia para a próxima camada. As camadas principais do Keras incluem camadas densas, camadas de ativação e camadas de eliminação. Existem outras camadas que são mais complexas, incluindo camadas convolucionais e camadas de pool.\n",
    "\n",
    "Por enquanto, vamos dar uma olhada nas camadas densas, que são de longe o tipo mais comum de camada usada no Keras. Uma camada densa também é conhecida como camada totalmente conectada. Está totalmente conectado porque usa toda a sua entrada (em oposição a um subconjunto da entrada) para a função matemática que implementa.\n",
    "\n",
    "Uma camada densa implementa a seguinte função:\n",
    "\n",
    "$$\\hat{y} = \\sigma(Wx + b)$$\n",
    "\n",
    "$\\hat{y}$ : É a saída da função;\n",
    "\n",
    "$\\sigma$ : É a função de ativação;\n",
    "\n",
    "$x$ : São os inputs das funções;\n",
    "\n",
    "$W$ : Pesos atribuídos durante o processo;\n",
    "\n",
    "$b$ : São os vieses (Biases)."
   ]
  },
  {
   "cell_type": "markdown",
   "metadata": {},
   "source": [
    "## Compilação (Compile)"
   ]
  },
  {
   "cell_type": "markdown",
   "metadata": {},
   "source": [
    "Após definir a arquitetura do modelo a ser usado precisamos treiná-lo, para treiná-lo precisamos definir o método de compilação do Keras. Este método pode receber vários processos, porém os mais importantes são o otimizador a ser utilizado (**optimizer**) e a função de perda (**loss function**)."
   ]
  },
  {
   "cell_type": "markdown",
   "metadata": {},
   "source": [
    "## Função de Perda (loss function)"
   ]
  },
  {
   "cell_type": "markdown",
   "metadata": {},
   "source": [
    "Uma função de perda tem o seguinte objetivo em um modelo de deep learning, avaliar o quão boas são nossas previsões com base no modelo criado. Cada tipo de problema definira o tipo de função de perda a ser utilizada. No Keras existem diversas funções a serem utilizadas para compilação de um modelo de rede neural porém as mais utilizadas são:\n",
    "\n",
    "`mean_squared_error`: Se for um problema de regressão;\n",
    "\n",
    "`binary_crossentropy`: Se for um problema de classificação;\n",
    "\n",
    "`categorical_crossentropy`: Se for um problema de classificação multiclasse\n",
    "\n",
    "Caso a função de perda não estiver presente no Keras (o que é muito dificil) ela pode ser implementar e passada ao método de compilação. "
   ]
  },
  {
   "cell_type": "markdown",
   "metadata": {},
   "source": [
    "## Otimizador (Optimizer)"
   ]
  },
  {
   "cell_type": "markdown",
   "metadata": {},
   "source": [
    "Um otimizador é um algoritmo para atualizar os pesos da rede neural no processo de treinamento. Os otimizadores em Keras são baseados no algoritmo de descida de gradiente, que abordamos em uma seção anterior.\n",
    "\n",
    "Existem vários tipos de otimizadores para redes neurais, cada tipo de rede neural possui um tipo de otimizador que funcionará melhor para o seu tipo de arquitetura em específico, isso deve ser lembrado na hora da escolha para ser utilizado o otimizador adquado. "
   ]
  },
  {
   "cell_type": "markdown",
   "metadata": {},
   "source": [
    "# Criando Redes Neurais em Keras"
   ]
  },
  {
   "cell_type": "markdown",
   "metadata": {},
   "source": [
    "Como exemplo vamos criar uma rede neural de duas camadas para mostrar como funciona a arquitetura do Keras. Primeiro importamos os módulos necessários para realizar a criação da nossa rede neural."
   ]
  },
  {
   "cell_type": "code",
   "execution_count": 3,
   "metadata": {},
   "outputs": [],
   "source": [
    "# Importando as bibliotecas\n",
    "import numpy as np\n",
    "from keras.models import Sequential\n",
    "from keras.layers import Dense\n",
    "from keras import optimizers"
   ]
  },
  {
   "cell_type": "markdown",
   "metadata": {},
   "source": [
    "Após a importação das bibliotecas criamos instanciamos um modelo `Sequential` em seguida vamos adicionando as camadas com o método `.add` e assim definindo as quantidades de unidades e funções de ativação através dos seus respectivos parâmetros. Note que definimos `input_dim=3` isso significa informa o número de features do dataset."
   ]
  },
  {
   "cell_type": "code",
   "execution_count": 4,
   "metadata": {},
   "outputs": [],
   "source": [
    "# Instanciando o modelo sequencial\n",
    "model = Sequential()\n",
    "\n",
    "# Layer 1\n",
    "model.add(Dense(units=4, activation='sigmoid', input_dim=3))\n",
    "\n",
    "# Output Layer\n",
    "model.add(Dense(units=1, activation='sigmoid'))"
   ]
  },
  {
   "cell_type": "markdown",
   "metadata": {},
   "source": [
    "Após a construção do modelo podemos visualizar como o mesmo ficou através do método `.summary`, conforme abaixo."
   ]
  },
  {
   "cell_type": "code",
   "execution_count": 5,
   "metadata": {},
   "outputs": [
    {
     "name": "stdout",
     "output_type": "stream",
     "text": [
      "Model: \"sequential\"\n",
      "_________________________________________________________________\n",
      "Layer (type)                 Output Shape              Param #   \n",
      "=================================================================\n",
      "dense (Dense)                (None, 4)                 16        \n",
      "_________________________________________________________________\n",
      "dense_1 (Dense)              (None, 1)                 5         \n",
      "=================================================================\n",
      "Total params: 21\n",
      "Trainable params: 21\n",
      "Non-trainable params: 0\n",
      "_________________________________________________________________\n"
     ]
    }
   ],
   "source": [
    "model.summary()"
   ]
  },
  {
   "cell_type": "markdown",
   "metadata": {},
   "source": [
    "Agora que criamos nosso modelo com duas camadas vamos compila-lo. Para isto primeiro, definimos o otimizador neste caso o Stochastic Gradient Descent e também definiremos o parâmetro learning rate `lr` como 1. Também definiremos nossa função de perda como `loss='mean_squared_error'`. "
   ]
  },
  {
   "cell_type": "code",
   "execution_count": 6,
   "metadata": {},
   "outputs": [],
   "source": [
    "# Definindo o otimizador a ser utilizado\n",
    "sgd = optimizers.SGD(lr=1)\n",
    "model.compile(loss='mean_squared_error', optimizer=sgd)"
   ]
  },
  {
   "cell_type": "markdown",
   "metadata": {},
   "source": [
    "Por fim para testar esta rede neural vamos criar dois arrays com o numpy, sendo que neste caso, **X** seria as colunas de um dataset utilizada para prever **y**."
   ]
  },
  {
   "cell_type": "code",
   "execution_count": 7,
   "metadata": {},
   "outputs": [],
   "source": [
    "# Definindo uma semente aleatória para garatir os mesmos resultados\n",
    "np.random.seed(42)\n",
    "\n",
    "# Features\n",
    "X = np.array([[0,0,1],\n",
    "              [0,1,1],\n",
    "              [1,0,1],\n",
    "              [1,1,1]])\n",
    "\n",
    "# Target\n",
    "y = np.array([[0],[1],[1],[0]])"
   ]
  },
  {
   "cell_type": "markdown",
   "metadata": {},
   "source": [
    "Por fim realizamos o treinamento deste pequena rede neural e em seguida as previsões para os dados de entrada."
   ]
  },
  {
   "cell_type": "code",
   "execution_count": 8,
   "metadata": {},
   "outputs": [
    {
     "data": {
      "text/plain": [
       "array([[0.06643105],\n",
       "       [0.930304  ],\n",
       "       [0.94169545],\n",
       "       [0.05505698]], dtype=float32)"
      ]
     },
     "execution_count": 8,
     "metadata": {},
     "output_type": "execute_result"
    }
   ],
   "source": [
    "# Treina o modelo\n",
    "model.fit(X, y, epochs=1500, verbose=False)\n",
    "\n",
    "# Realiza as previsões\n",
    "model.predict(X)"
   ]
  }
 ],
 "metadata": {
  "kernelspec": {
   "display_name": "Python 3",
   "language": "python",
   "name": "python3"
  },
  "language_info": {
   "codemirror_mode": {
    "name": "ipython",
    "version": 3
   },
   "file_extension": ".py",
   "mimetype": "text/x-python",
   "name": "python",
   "nbconvert_exporter": "python",
   "pygments_lexer": "ipython3",
   "version": "3.7.7"
  }
 },
 "nbformat": 4,
 "nbformat_minor": 4
}
